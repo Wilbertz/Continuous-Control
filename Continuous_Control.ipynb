{
 "cells": [
  {
   "cell_type": "markdown",
   "metadata": {},
   "source": [
    "# Continuous Control\n",
    "\n",
    "---\n",
    "\n",
    "You are welcome to use this coding environment to train your agent for the project.  Follow the instructions below to get started!\n",
    "\n",
    "### 1. Start the Environment\n",
    "\n",
    "Run the next code cell to install a few packages.  This line will take a few minutes to run!"
   ]
  },
  {
   "cell_type": "code",
   "execution_count": 1,
   "metadata": {},
   "outputs": [
    {
     "name": "stdout",
     "output_type": "stream",
     "text": [
      "\u001b[31mtensorflow 1.7.1 has requirement numpy>=1.13.3, but you'll have numpy 1.12.1 which is incompatible.\u001b[0m\r\n",
      "\u001b[31mipython 6.5.0 has requirement prompt-toolkit<2.0.0,>=1.0.15, but you'll have prompt-toolkit 2.0.10 which is incompatible.\u001b[0m\r\n"
     ]
    }
   ],
   "source": [
    "!pip -q install ./python"
   ]
  },
  {
   "cell_type": "markdown",
   "metadata": {},
   "source": [
    "The environments corresponding to both versions of the environment are already saved in the Workspace and can be accessed at the file paths provided below.  \n",
    "\n",
    "Please select one of the two options below for loading the environment."
   ]
  },
  {
   "cell_type": "code",
   "execution_count": 2,
   "metadata": {},
   "outputs": [
    {
     "name": "stderr",
     "output_type": "stream",
     "text": [
      "INFO:unityagents:\n",
      "'Academy' started successfully!\n",
      "Unity Academy name: Academy\n",
      "        Number of Brains: 1\n",
      "        Number of External Brains : 1\n",
      "        Lesson number : 0\n",
      "        Reset Parameters :\n",
      "\t\tgoal_speed -> 1.0\n",
      "\t\tgoal_size -> 5.0\n",
      "Unity brain name: ReacherBrain\n",
      "        Number of Visual Observations (per agent): 0\n",
      "        Vector Observation space type: continuous\n",
      "        Vector Observation space size (per agent): 33\n",
      "        Number of stacked Vector Observation: 1\n",
      "        Vector Action space type: continuous\n",
      "        Vector Action space size (per agent): 4\n",
      "        Vector Action descriptions: , , , \n"
     ]
    }
   ],
   "source": [
    "from unityagents import UnityEnvironment\n",
    "import numpy as np\n",
    "\n",
    "# select this option to load version 1 (with a single agent) of the environment\n",
    "# env = UnityEnvironment(file_name='/data/Reacher_One_Linux_NoVis/Reacher_One_Linux_NoVis.x86_64')\n",
    "\n",
    "# select this option to load version 2 (with 20 agents) of the environment\n",
    "env = UnityEnvironment(file_name='/data/Reacher_Linux_NoVis/Reacher.x86_64')"
   ]
  },
  {
   "cell_type": "markdown",
   "metadata": {},
   "source": [
    "Environments contain **_brains_** which are responsible for deciding the actions of their associated agents. Here we check for the first brain available, and set it as the default brain we will be controlling from Python."
   ]
  },
  {
   "cell_type": "code",
   "execution_count": 3,
   "metadata": {},
   "outputs": [],
   "source": [
    "# get the default brain\n",
    "brain_name = env.brain_names[0]\n",
    "brain = env.brains[brain_name]"
   ]
  },
  {
   "cell_type": "markdown",
   "metadata": {},
   "source": [
    "### 2. Examine the State and Action Spaces\n",
    "\n",
    "Run the code cell below to print some information about the environment."
   ]
  },
  {
   "cell_type": "code",
   "execution_count": 4,
   "metadata": {},
   "outputs": [
    {
     "name": "stdout",
     "output_type": "stream",
     "text": [
      "Number of agents: 20\n",
      "Size of each action: 4\n",
      "There are 20 agents. Each observes a state with length: 33\n",
      "The state for the first agent looks like: [  0.00000000e+00  -4.00000000e+00   0.00000000e+00   1.00000000e+00\n",
      "  -0.00000000e+00  -0.00000000e+00  -4.37113883e-08   0.00000000e+00\n",
      "   0.00000000e+00   0.00000000e+00   0.00000000e+00   0.00000000e+00\n",
      "   0.00000000e+00   0.00000000e+00  -1.00000000e+01   0.00000000e+00\n",
      "   1.00000000e+00  -0.00000000e+00  -0.00000000e+00  -4.37113883e-08\n",
      "   0.00000000e+00   0.00000000e+00   0.00000000e+00   0.00000000e+00\n",
      "   0.00000000e+00   0.00000000e+00   5.75471878e+00  -1.00000000e+00\n",
      "   5.55726624e+00   0.00000000e+00   1.00000000e+00   0.00000000e+00\n",
      "  -1.68164849e-01]\n"
     ]
    }
   ],
   "source": [
    "# reset the environment\n",
    "env_info = env.reset(train_mode=True)[brain_name]\n",
    "\n",
    "# number of agents\n",
    "num_agents = len(env_info.agents)\n",
    "print('Number of agents:', num_agents)\n",
    "\n",
    "# size of each action\n",
    "action_size = brain.vector_action_space_size\n",
    "print('Size of each action:', action_size)\n",
    "\n",
    "# examine the state space \n",
    "states = env_info.vector_observations\n",
    "state_size = states.shape[1]\n",
    "print('There are {} agents. Each observes a state with length: {}'.format(states.shape[0], state_size))\n",
    "print('The state for the first agent looks like:', states[0])"
   ]
  },
  {
   "cell_type": "markdown",
   "metadata": {},
   "source": [
    "### 3. Take Random Actions in the Environment\n",
    "\n",
    "In the next code cell, you will learn how to use the Python API to control the agent and receive feedback from the environment.\n",
    "\n",
    "Note that **in this coding environment, you will not be able to watch the agents while they are training**, and you should set `train_mode=True` to restart the environment."
   ]
  },
  {
   "cell_type": "code",
   "execution_count": 5,
   "metadata": {},
   "outputs": [
    {
     "name": "stdout",
     "output_type": "stream",
     "text": [
      "Total score (averaged over agents) this episode: 0.07999999821186066\n"
     ]
    }
   ],
   "source": [
    "env_info = env.reset(train_mode=True)[brain_name]      # reset the environment    \n",
    "states = env_info.vector_observations                  # get the current state (for each agent)\n",
    "scores = np.zeros(num_agents)                          # initialize the score (for each agent)\n",
    "while True:\n",
    "    actions = np.random.randn(num_agents, action_size) # select an action (for each agent)\n",
    "    actions = np.clip(actions, -1, 1)                  # all actions between -1 and 1\n",
    "    env_info = env.step(actions)[brain_name]           # send all actions to tne environment\n",
    "    next_states = env_info.vector_observations         # get next state (for each agent)\n",
    "    rewards = env_info.rewards                         # get reward (for each agent)\n",
    "    dones = env_info.local_done                        # see if episode finished\n",
    "    scores += env_info.rewards                         # update the score (for each agent)\n",
    "    states = next_states                               # roll over states to next time step\n",
    "    if np.any(dones):                                  # exit loop if episode finished\n",
    "        break\n",
    "print('Total score (averaged over agents) this episode: {}'.format(np.mean(scores)))"
   ]
  },
  {
   "cell_type": "markdown",
   "metadata": {},
   "source": [
    "When finished, you can close the environment."
   ]
  },
  {
   "cell_type": "code",
   "execution_count": null,
   "metadata": {},
   "outputs": [],
   "source": [
    "# env.close()"
   ]
  },
  {
   "cell_type": "markdown",
   "metadata": {},
   "source": [
    "### 4. It's Your Turn!\n",
    "\n",
    "Now it's your turn to train your own agent to solve the environment!  A few **important notes**:\n",
    "- When training the environment, set `train_mode=True`, so that the line for resetting the environment looks like the following:\n",
    "```python\n",
    "env_info = env.reset(train_mode=True)[brain_name]\n",
    "```\n",
    "- To structure your work, you're welcome to work directly in this Jupyter notebook, or you might like to start over with a new file!  You can see the list of files in the workspace by clicking on **_Jupyter_** in the top left corner of the notebook.\n",
    "- In this coding environment, you will not be able to watch the agents while they are training.  However, **_after training the agents_**, you can download the saved model weights to watch the agents on your own machine! "
   ]
  },
  {
   "cell_type": "markdown",
   "metadata": {},
   "source": [
    "### 5. Train an agent"
   ]
  },
  {
   "cell_type": "markdown",
   "metadata": {},
   "source": [
    "Load the Python code for the model and the agent."
   ]
  },
  {
   "cell_type": "code",
   "execution_count": 6,
   "metadata": {},
   "outputs": [],
   "source": [
    "import torch\n",
    "import numpy as np\n",
    "from collections import deque\n",
    "import matplotlib.pyplot as plt\n",
    "%matplotlib inline\n",
    "\n",
    "from agent import Agent"
   ]
  },
  {
   "cell_type": "markdown",
   "metadata": {},
   "source": [
    "Create an Agent."
   ]
  },
  {
   "cell_type": "code",
   "execution_count": 7,
   "metadata": {},
   "outputs": [],
   "source": [
    "random_seed = 7\n",
    "train_mode = True\n",
    "\n",
    "agent = Agent(state_size=state_size, action_size=action_size, n_agents=num_agents, seed=random_seed)"
   ]
  },
  {
   "cell_type": "code",
   "execution_count": 8,
   "metadata": {},
   "outputs": [],
   "source": [
    "def ddpg(n_episodes=1000, max_t=1000):\n",
    "    total_scores_deque = deque(maxlen=100)                            # Average is computed over 100 episodes.\n",
    "    total_scores = []\n",
    "    \n",
    "    for iEpisode in range(1, n_episodes+1):\n",
    "        # Reset Environment and Agent\n",
    "        env_info = env.reset(train_mode=train_mode)[brain_name]       # Reset the environment    \n",
    "        states = env_info.vector_observations                         # Retrieve observations (states) for every agent\n",
    "        scores = np.zeros(num_agents)                                 # initialize the score for every agent\n",
    "        agent.reset()\n",
    "        \n",
    "        for step in range(max_t):\n",
    "            actions = agent.act(states)                         # Get actions for every agent.\n",
    "            \n",
    "            env_info = env.step(actions)[brain_name]            # Execute actions against environment\n",
    "            next_states = env_info.vector_observations          # Retrieve next state for every agent.\n",
    "            rewards = env_info.rewards                          # Retrieve rewards for every agent.\n",
    "            \n",
    "            dones = env_info.local_done                         # Check whether episode is done.\n",
    "            \n",
    "            # send actions to the agent\n",
    "            agent.step(states, actions, rewards, next_states, dones) \n",
    "            \n",
    "            scores += env_info.rewards                          # Update the score for every agent.\n",
    "            states = next_states                                # Update states.\n",
    "            \n",
    "            if np.any(dones):                                   # Break in case episode is finished\n",
    "                break\n",
    "\n",
    "        mean_score = np.mean(scores)\n",
    "        total_scores_deque.append(mean_score)\n",
    "        total_scores.append(mean_score)\n",
    "        total_average_score = np.mean(total_scores_deque)\n",
    "        \n",
    "        print('\\rEpisode {}\\tTotal Average Score: {:.2f}\\tMean Score: {:.2f}'.format(iEpisode, total_average_score, mean_score)) \n",
    "        \n",
    "        if iEpisode % 10 == 0:\n",
    "            torch.save(agent.actor_local.state_dict(), 'checkpoint_actor.pth')\n",
    "            torch.save(agent.critic_local.state_dict(), 'checkpoint_critic.pth')\n",
    "            \n",
    "        if total_average_score >= 30 and iEpisode >= 100:\n",
    "            print('Problem Solved after {} epsisodes ! Total Average score: {:.2f}'.format(iEpisode, total_average_score))\n",
    "            torch.save(agent.actor_local.state_dict(), 'checkpoint_actor.pth')\n",
    "            torch.save(agent.critic_local.state_dict(), 'checkpoint_critic.pth')\n",
    "            break\n",
    "    \n",
    "    return total_scores"
   ]
  },
  {
   "cell_type": "code",
   "execution_count": 9,
   "metadata": {},
   "outputs": [
    {
     "name": "stdout",
     "output_type": "stream",
     "text": [
      "Episode 1\tTotal Average Score: 0.62\tMean Score: 0.62\n",
      "Episode 2\tTotal Average Score: 0.66\tMean Score: 0.71\n",
      "Episode 3\tTotal Average Score: 0.86\tMean Score: 1.26\n",
      "Episode 4\tTotal Average Score: 0.92\tMean Score: 1.09\n",
      "Episode 5\tTotal Average Score: 1.00\tMean Score: 1.30\n",
      "Episode 6\tTotal Average Score: 1.12\tMean Score: 1.75\n",
      "Episode 7\tTotal Average Score: 1.24\tMean Score: 1.96\n",
      "Episode 8\tTotal Average Score: 1.40\tMean Score: 2.53\n",
      "Episode 9\tTotal Average Score: 1.70\tMean Score: 4.08\n",
      "Episode 10\tTotal Average Score: 1.98\tMean Score: 4.50\n",
      "Episode 11\tTotal Average Score: 2.46\tMean Score: 7.21\n",
      "Episode 12\tTotal Average Score: 3.17\tMean Score: 11.02\n",
      "Episode 13\tTotal Average Score: 4.16\tMean Score: 16.10\n",
      "Episode 14\tTotal Average Score: 5.51\tMean Score: 23.02\n",
      "Episode 15\tTotal Average Score: 6.89\tMean Score: 26.26\n",
      "Episode 16\tTotal Average Score: 8.27\tMean Score: 28.86\n",
      "Episode 17\tTotal Average Score: 9.79\tMean Score: 34.19\n",
      "Episode 18\tTotal Average Score: 11.21\tMean Score: 35.29\n",
      "Episode 19\tTotal Average Score: 12.51\tMean Score: 36.03\n",
      "Episode 20\tTotal Average Score: 13.76\tMean Score: 37.53\n",
      "Episode 21\tTotal Average Score: 14.86\tMean Score: 36.76\n",
      "Episode 22\tTotal Average Score: 15.94\tMean Score: 38.52\n",
      "Episode 23\tTotal Average Score: 16.92\tMean Score: 38.64\n",
      "Episode 24\tTotal Average Score: 17.81\tMean Score: 38.14\n",
      "Episode 25\tTotal Average Score: 18.65\tMean Score: 38.97\n",
      "Episode 26\tTotal Average Score: 19.44\tMean Score: 39.09\n",
      "Episode 27\tTotal Average Score: 20.14\tMean Score: 38.48\n",
      "Episode 28\tTotal Average Score: 20.80\tMean Score: 38.53\n",
      "Episode 29\tTotal Average Score: 21.41\tMean Score: 38.58\n",
      "Episode 30\tTotal Average Score: 21.98\tMean Score: 38.35\n",
      "Episode 31\tTotal Average Score: 22.53\tMean Score: 39.19\n",
      "Episode 32\tTotal Average Score: 23.03\tMean Score: 38.46\n",
      "Episode 33\tTotal Average Score: 23.48\tMean Score: 37.73\n",
      "Episode 34\tTotal Average Score: 23.90\tMean Score: 37.91\n",
      "Episode 35\tTotal Average Score: 24.31\tMean Score: 38.09\n",
      "Episode 36\tTotal Average Score: 24.70\tMean Score: 38.65\n",
      "Episode 37\tTotal Average Score: 25.08\tMean Score: 38.64\n",
      "Episode 38\tTotal Average Score: 25.43\tMean Score: 38.32\n",
      "Episode 39\tTotal Average Score: 25.77\tMean Score: 38.57\n",
      "Episode 40\tTotal Average Score: 26.08\tMean Score: 38.47\n",
      "Episode 41\tTotal Average Score: 26.39\tMean Score: 38.77\n",
      "Episode 42\tTotal Average Score: 26.65\tMean Score: 37.27\n",
      "Episode 43\tTotal Average Score: 26.91\tMean Score: 37.61\n",
      "Episode 44\tTotal Average Score: 27.15\tMean Score: 37.43\n",
      "Episode 45\tTotal Average Score: 27.38\tMean Score: 37.80\n",
      "Episode 46\tTotal Average Score: 27.60\tMean Score: 37.41\n",
      "Episode 47\tTotal Average Score: 27.82\tMean Score: 37.78\n",
      "Episode 48\tTotal Average Score: 28.03\tMean Score: 38.21\n",
      "Episode 49\tTotal Average Score: 28.23\tMean Score: 37.81\n",
      "Episode 50\tTotal Average Score: 28.40\tMean Score: 36.59\n",
      "Episode 51\tTotal Average Score: 28.58\tMean Score: 37.64\n",
      "Episode 52\tTotal Average Score: 28.77\tMean Score: 38.40\n",
      "Episode 53\tTotal Average Score: 28.95\tMean Score: 38.24\n",
      "Episode 54\tTotal Average Score: 29.13\tMean Score: 38.81\n",
      "Episode 55\tTotal Average Score: 29.30\tMean Score: 38.51\n",
      "Episode 56\tTotal Average Score: 29.47\tMean Score: 38.39\n",
      "Episode 57\tTotal Average Score: 29.62\tMean Score: 38.54\n",
      "Episode 58\tTotal Average Score: 29.78\tMean Score: 38.48\n",
      "Episode 59\tTotal Average Score: 29.93\tMean Score: 38.74\n",
      "Episode 60\tTotal Average Score: 30.08\tMean Score: 39.06\n",
      "Episode 61\tTotal Average Score: 30.22\tMean Score: 38.45\n",
      "Episode 62\tTotal Average Score: 30.36\tMean Score: 38.71\n",
      "Episode 63\tTotal Average Score: 30.49\tMean Score: 38.65\n",
      "Episode 64\tTotal Average Score: 30.61\tMean Score: 38.56\n",
      "Episode 65\tTotal Average Score: 30.74\tMean Score: 39.00\n",
      "Episode 66\tTotal Average Score: 30.86\tMean Score: 38.79\n",
      "Episode 67\tTotal Average Score: 30.97\tMean Score: 38.02\n",
      "Episode 68\tTotal Average Score: 31.09\tMean Score: 39.12\n",
      "Episode 69\tTotal Average Score: 31.21\tMean Score: 39.11\n",
      "Episode 70\tTotal Average Score: 31.31\tMean Score: 38.29\n",
      "Episode 71\tTotal Average Score: 31.41\tMean Score: 38.60\n",
      "Episode 72\tTotal Average Score: 31.52\tMean Score: 39.03\n",
      "Episode 73\tTotal Average Score: 31.61\tMean Score: 38.00\n",
      "Episode 74\tTotal Average Score: 31.70\tMean Score: 38.49\n",
      "Episode 75\tTotal Average Score: 31.79\tMean Score: 38.39\n",
      "Episode 76\tTotal Average Score: 31.86\tMean Score: 37.37\n",
      "Episode 77\tTotal Average Score: 31.95\tMean Score: 38.49\n",
      "Episode 78\tTotal Average Score: 32.04\tMean Score: 38.88\n",
      "Episode 79\tTotal Average Score: 32.12\tMean Score: 38.61\n",
      "Episode 80\tTotal Average Score: 32.20\tMean Score: 38.81\n",
      "Episode 81\tTotal Average Score: 32.27\tMean Score: 37.70\n",
      "Episode 82\tTotal Average Score: 32.34\tMean Score: 37.76\n",
      "Episode 83\tTotal Average Score: 32.41\tMean Score: 38.26\n",
      "Episode 84\tTotal Average Score: 32.48\tMean Score: 38.33\n",
      "Episode 85\tTotal Average Score: 32.54\tMean Score: 37.33\n",
      "Episode 86\tTotal Average Score: 32.60\tMean Score: 37.75\n",
      "Episode 87\tTotal Average Score: 32.67\tMean Score: 39.01\n",
      "Episode 88\tTotal Average Score: 32.74\tMean Score: 38.88\n",
      "Episode 89\tTotal Average Score: 32.80\tMean Score: 38.06\n",
      "Episode 90\tTotal Average Score: 32.87\tMean Score: 38.59\n",
      "Episode 91\tTotal Average Score: 32.93\tMean Score: 38.53\n",
      "Episode 92\tTotal Average Score: 32.98\tMean Score: 38.10\n",
      "Episode 93\tTotal Average Score: 33.05\tMean Score: 38.68\n",
      "Episode 94\tTotal Average Score: 33.10\tMean Score: 38.66\n",
      "Episode 95\tTotal Average Score: 33.16\tMean Score: 38.06\n",
      "Episode 96\tTotal Average Score: 33.20\tMean Score: 37.55\n",
      "Episode 97\tTotal Average Score: 33.26\tMean Score: 38.78\n",
      "Episode 98\tTotal Average Score: 33.32\tMean Score: 38.67\n",
      "Episode 99\tTotal Average Score: 33.37\tMean Score: 38.76\n",
      "Episode 100\tTotal Average Score: 33.42\tMean Score: 38.53\n",
      "Problem Solved after 100 epsisodes ! Total Average score: 33.42\n"
     ]
    }
   ],
   "source": [
    "scores = ddpg()"
   ]
  },
  {
   "cell_type": "code",
   "execution_count": 10,
   "metadata": {},
   "outputs": [
    {
     "data": {
      "image/png": "[encoded data removed]",
      "text/plain": [
       "<matplotlib.figure.Figure at 0x7f02c12d14a8>"
      ]
     },
     "metadata": {
      "needs_background": "light"
     },
     "output_type": "display_data"
    }
   ],
   "source": [
    "import matplotlib.pyplot as plt\n",
    "fig = plt.figure()\n",
    "ax = fig.add_subplot(111)\n",
    "plt.plot(np.arange(1, len(scores)+1), scores)\n",
    "plt.ylabel('Scores')\n",
    "plt.xlabel('Episode #')\n",
    "plt.show()"
   ]
  },
  {
   "cell_type": "code",
   "execution_count": null,
   "metadata": {},
   "outputs": [],
   "source": []
  }
 ],
 "metadata": {
  "kernelspec": {
   "display_name": "Python 3",
   "language": "python",
   "name": "python3"
  },
  "language_info": {
   "codemirror_mode": {
    "name": "ipython",
    "version": 3
   },
   "file_extension": ".py",
   "mimetype": "text/x-python",
   "name": "python",
   "nbconvert_exporter": "python",
   "pygments_lexer": "ipython3",
   "version": "3.6.3"
  }
 },
 "nbformat": 4,
 "nbformat_minor": 2
}
